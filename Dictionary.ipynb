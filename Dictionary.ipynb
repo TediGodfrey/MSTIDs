{
 "cells": [
  {
   "cell_type": "code",
   "execution_count": 11,
   "metadata": {},
   "outputs": [
    {
     "name": "stdout",
     "output_type": "stream",
     "text": [
      "{'Backgrd_Ne': '/backgrd_Ne', 'Altitude': '/alt', 'Relative_Ne': '/relative_Ne', 'LS': ('/frequency', 'periodogram', 'spectrogram'), 'Ne_NoTr': ('/e_density', 'hour_array'), 'Time': ('/Day', 'Hours', 'Total_Days', 'UnixTime')}\n",
      "\n"
     ]
    }
   ],
   "source": [
    "Paths = {'Altitude'       :   ('/alt'),\\\n",
    "         'Backgrd_Ne'     :   ('/backgrd_Ne'),\\\n",
    "         'LS'             :   ('/frequency','periodogram','spectrogram'),\\\n",
    "         'Ne_NoTr'        :   ('/e_density','hour_array'),\\\n",
    "         'Relative_Ne'    :   ('/relative_Ne'),\\\n",
    "         'Time'           :   ('/Day','Hours','Total_Days','UnixTime')}\n",
    "print(Paths)\n",
    "print\n",
    "\n",
    "Descriptions = {\n",
    "    '/alt'         :   [('TITLE','altitude'),('Description','altitude array'),('Size',''),('Units','km')]\n",
    "    '/backgrd_Ne'  :   [('TITLE','background electron density'),('Description',''),('Size',''),('Units','')]\n",
    "    '/frequency'   :   [('TITLE','frequency'),('Description',''),('Size',''),('Units','')]\n",
    "    '/periodogram' :   [('TITLE','periodogram'),('Description',''),('Size',''),('Units','')]\n",
    "    '/spectrogram' :   [('TITLE','spectrogram'),('Description',''),('Size',''),('Units','')]\n",
    "    '/e_density'   :   [('TITLE','electron density'),('Description',''),('Size',''),('Units','')]\n",
    "   #'/hour_array'  :   [('TITLE','hours'),('Description',''),('Size',''),('Units','')]\n",
    "    '/relative_Ne' :   [('TITLE','relative electron density'),('Description',''),('Size',''),('Units','')]\n",
    "    '/Day'         :   [('TITLE','days'),('Description','time as day of month'),('Size',''),('Units','day')]\n",
    "    '/Hours'       :   [('TITLE','hours'),('Description','time as hours in day'),('Size',''),('Units','hours')]\n",
    "    '/Total_Days'  :   [('TITLE','total days'),('Description','amount of different days in data'),('Size',''),('Units','N/A')]\n",
    "    '/UnixTime'    :   [('TITLE','Unix time'),('Description','time since 1970'),('Size',''),('Units','')]}\n",
    "print(Descriptions)\n",
    "print\n"
   ]
  },
  {
   "cell_type": "code",
   "execution_count": null,
   "metadata": {},
   "outputs": [],
   "source": []
  }
 ],
 "metadata": {
  "kernelspec": {
   "display_name": "Python 3",
   "language": "python",
   "name": "python3"
  },
  "language_info": {
   "codemirror_mode": {
    "name": "ipython",
    "version": 3
   },
   "file_extension": ".py",
   "mimetype": "text/x-python",
   "name": "python",
   "nbconvert_exporter": "python",
   "pygments_lexer": "ipython3",
   "version": "3.6.9"
  }
 },
 "nbformat": 4,
 "nbformat_minor": 2
}
